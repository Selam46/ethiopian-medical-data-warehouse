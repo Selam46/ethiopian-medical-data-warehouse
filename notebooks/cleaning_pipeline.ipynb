{
 "cells": [
  {
   "cell_type": "code",
   "execution_count": 1,
   "metadata": {},
   "outputs": [],
   "source": [
    "# Cell 1 - Import necessary libraries\n",
    "import pandas as pd\n",
    "import numpy as np\n",
    "import os\n",
    "import sys\n",
    "from datetime import datetime\n",
    "import logging\n",
    "\n",
    "# Add project root to path\n",
    "project_root = os.path.abspath(os.path.join(os.getcwd(), '..'))\n",
    "if project_root not in sys.path:\n",
    "    sys.path.append(project_root)\n",
    "\n",
    "from src.utils.cleaning_utils import (\n",
    "    clean_text,\n",
    "    standardize_date,\n",
    "    remove_duplicates,\n",
    "    validate_data\n",
    ")\n",
    "\n",
    "# Configure logging\n",
    "logging.basicConfig(\n",
    "    level=logging.INFO,\n",
    "    format='%(asctime)s - %(name)s - %(levelname)s - %(message)s',\n",
    "    handlers=[\n",
    "        logging.FileHandler('logs/cleaning.log'),\n",
    "        logging.StreamHandler()\n",
    "    ]\n",
    ")\n",
    "logger = logging.getLogger(__name__)"
   ]
  },
  {
   "cell_type": "code",
   "execution_count": 2,
   "metadata": {},
   "outputs": [
    {
     "name": "stdout",
     "output_type": "stream",
     "text": [
      "Dataset Info:\n",
      "<class 'pandas.core.frame.DataFrame'>\n",
      "RangeIndex: 400 entries, 0 to 399\n",
      "Data columns (total 6 columns):\n",
      " #   Column      Non-Null Count  Dtype \n",
      "---  ------      --------------  ----- \n",
      " 0   channel     400 non-null    object\n",
      " 1   date        400 non-null    object\n",
      " 2   text        262 non-null    object\n",
      " 3   has_image   400 non-null    bool  \n",
      " 4   message_id  400 non-null    int64 \n",
      " 5   image_path  350 non-null    object\n",
      "dtypes: bool(1), int64(1), object(4)\n",
      "memory usage: 16.1+ KB\n",
      "None\n",
      "\n",
      "Missing Values:\n",
      "channel         0\n",
      "date            0\n",
      "text          138\n",
      "has_image       0\n",
      "message_id      0\n",
      "image_path     50\n",
      "dtype: int64\n",
      "\n",
      "Duplicate Rows: 0\n"
     ]
    }
   ],
   "source": [
    "# Cell 2 - Load and examine raw data\n",
    "# Load the data\n",
    "df = pd.read_csv('telegram_data.csv')\n",
    "\n",
    "# Display basic information about the dataset\n",
    "print(\"Dataset Info:\")\n",
    "print(df.info())\n",
    "\n",
    "print(\"\\nMissing Values:\")\n",
    "print(df.isnull().sum())\n",
    "\n",
    "print(\"\\nDuplicate Rows:\", df.duplicated().sum())"
   ]
  },
  {
   "cell_type": "code",
   "execution_count": 3,
   "metadata": {},
   "outputs": [
    {
     "name": "stderr",
     "output_type": "stream",
     "text": [
      "2025-01-31 11:26:16,683 - __main__ - INFO - Starting data cleaning process...\n",
      "2025-01-31 11:26:16,688 - __main__ - INFO - Cleaning text data...\n",
      "2025-01-31 11:26:16,752 - __main__ - INFO - Standardizing dates...\n",
      "2025-01-31 11:26:17,597 - __main__ - INFO - Removing duplicates...\n",
      "2025-01-31 11:26:17,602 - src.utils.cleaning_utils - INFO - Removed 52 duplicate entries\n",
      "2025-01-31 11:26:17,604 - __main__ - INFO - Handling missing values...\n"
     ]
    }
   ],
   "source": [
    "# Cell 3 - Clean and transform data\n",
    "def clean_dataset(df):\n",
    "    \"\"\"Main function to clean and transform the dataset\"\"\"\n",
    "    logger.info(\"Starting data cleaning process...\")\n",
    "    \n",
    "    # Create a copy of the dataframe\n",
    "    df_cleaned = df.copy()\n",
    "    \n",
    "    # Clean text data\n",
    "    logger.info(\"Cleaning text data...\")\n",
    "    df_cleaned['text'] = df_cleaned['text'].apply(clean_text)\n",
    "    \n",
    "    # Standardize dates\n",
    "    logger.info(\"Standardizing dates...\")\n",
    "    df_cleaned['date'] = df_cleaned['date'].apply(standardize_date)\n",
    "    \n",
    "    # Remove duplicates\n",
    "    logger.info(\"Removing duplicates...\")\n",
    "    df_cleaned = remove_duplicates(df_cleaned)\n",
    "    \n",
    "    # Handle missing values\n",
    "    logger.info(\"Handling missing values...\")\n",
    "    valid_mask = validate_data(df_cleaned)\n",
    "    df_cleaned = df_cleaned[valid_mask].copy()\n",
    "    \n",
    "    # Add metadata columns\n",
    "    df_cleaned['cleaned_at'] = datetime.now().strftime('%Y-%m-%d %H:%M:%S')\n",
    "    df_cleaned['cleaning_version'] = '1.0'\n",
    "    \n",
    "    return df_cleaned\n",
    "\n",
    "# Clean the dataset\n",
    "df_cleaned = clean_dataset(df)\n",
    "\n",
    "# Save cleaned data\n",
    "os.makedirs('data/cleaned', exist_ok=True)\n",
    "df_cleaned.to_csv('data/cleaned/cleaned_telegram_data.csv', index=False)"
   ]
  },
  {
   "cell_type": "code",
   "execution_count": 4,
   "metadata": {},
   "outputs": [
    {
     "name": "stdout",
     "output_type": "stream",
     "text": [
      "Data Quality Checks:\n",
      "No missing values: ✗\n",
      "No duplicates: ✓\n",
      "Valid dates: ✓\n",
      "Non-empty text: ✓\n"
     ]
    }
   ],
   "source": [
    "# Cell 4 - Data validation and quality checks\n",
    "def run_quality_checks(df_cleaned):\n",
    "    \"\"\"Run data quality checks on cleaned dataset\"\"\"\n",
    "    checks = {\n",
    "        \"No missing values\": df_cleaned.isnull().sum().sum() == 0,\n",
    "        \"No duplicates\": df_cleaned.duplicated().sum() == 0,\n",
    "        \"Valid dates\": pd.to_datetime(df_cleaned['date']).notnull().all(),\n",
    "        \"Non-empty text\": df_cleaned['text'].str.strip().str.len().gt(0).all()\n",
    "    }\n",
    "    \n",
    "    print(\"Data Quality Checks:\")\n",
    "    for check, result in checks.items():\n",
    "        print(f\"{check}: {'✓' if result else '✗'}\")\n",
    "    \n",
    "    return all(checks.values())\n",
    "\n",
    "# Run quality checks\n",
    "quality_passed = run_quality_checks(df_cleaned)"
   ]
  }
 ],
 "metadata": {
  "kernelspec": {
   "display_name": ".venv",
   "language": "python",
   "name": "python3"
  },
  "language_info": {
   "codemirror_mode": {
    "name": "ipython",
    "version": 3
   },
   "file_extension": ".py",
   "mimetype": "text/x-python",
   "name": "python",
   "nbconvert_exporter": "python",
   "pygments_lexer": "ipython3",
   "version": "3.13.0"
  }
 },
 "nbformat": 4,
 "nbformat_minor": 2
}
